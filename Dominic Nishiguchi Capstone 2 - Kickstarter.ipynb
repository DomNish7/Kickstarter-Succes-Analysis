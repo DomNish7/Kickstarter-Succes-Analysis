{
 "cells": [
  {
   "cell_type": "markdown",
   "id": "0140dc7f",
   "metadata": {},
   "source": [
    "# Introduction - Kickstarter Success\n",
    "\n"
   ]
  },
  {
   "cell_type": "markdown",
   "id": "4adf1cd9",
   "metadata": {},
   "source": [
    "### Objective: To analyze past Kickstarters Projects Strategy\n",
    "\n",
    "- Identifying the most impactful country to Kickstarter Projects success rate\n",
    "- What category of project is had proven to be successful\n",
    "- Find any variables that will impact success for creators as they are setting up their projects\n"
   ]
  },
  {
   "cell_type": "markdown",
   "id": "186388af",
   "metadata": {},
   "source": [
    "## Files Description\n",
    "\n",
    "Data File: ks-projects201801.csv\n",
    "\n",
    "Obtained from: https://www.kaggle.com/kemical/kickstarter-projects?select=ks-projects-201801.csv"
   ]
  },
  {
   "cell_type": "markdown",
   "id": "0eee47e6",
   "metadata": {},
   "source": [
    "### Importing Libraries"
   ]
  },
  {
   "cell_type": "code",
   "execution_count": 1,
   "id": "532d38a4",
   "metadata": {},
   "outputs": [],
   "source": [
    "#Loading libraries to start analysis and plotting of dataset\n",
    "\n",
    "import matplotlib as mpl\n",
    "import matplotlib.pyplot as plt \n",
    "%matplotlib inline\n",
    "import seaborn as sns\n",
    "import pandas as pd\n",
    "import statsmodels.api as sm\n",
    "import numpy as np"
   ]
  },
  {
   "cell_type": "markdown",
   "id": "60d7d5d7",
   "metadata": {},
   "source": [
    "### Importing Dataset"
   ]
  },
  {
   "cell_type": "code",
   "execution_count": 2,
   "id": "17423807",
   "metadata": {},
   "outputs": [],
   "source": [
    "kickstarter2018 = pd.read_csv('ks-projects-201801.csv')"
   ]
  },
  {
   "cell_type": "code",
   "execution_count": 3,
   "id": "e2bbe725",
   "metadata": {},
   "outputs": [
    {
     "name": "stdout",
     "output_type": "stream",
     "text": [
      "Index(['ID', 'name', 'category', 'main_category', 'currency', 'deadline',\n",
      "       'goal', 'launched', 'pledged', 'state', 'backers', 'country',\n",
      "       'usd pledged', 'usd_pledged_real', 'usd_goal_real'],\n",
      "      dtype='object')\n"
     ]
    },
    {
     "data": {
      "text/html": [
       "<div>\n",
       "<style scoped>\n",
       "    .dataframe tbody tr th:only-of-type {\n",
       "        vertical-align: middle;\n",
       "    }\n",
       "\n",
       "    .dataframe tbody tr th {\n",
       "        vertical-align: top;\n",
       "    }\n",
       "\n",
       "    .dataframe thead th {\n",
       "        text-align: right;\n",
       "    }\n",
       "</style>\n",
       "<table border=\"1\" class=\"dataframe\">\n",
       "  <thead>\n",
       "    <tr style=\"text-align: right;\">\n",
       "      <th></th>\n",
       "      <th>ID</th>\n",
       "      <th>name</th>\n",
       "      <th>category</th>\n",
       "      <th>main_category</th>\n",
       "      <th>currency</th>\n",
       "      <th>deadline</th>\n",
       "      <th>goal</th>\n",
       "      <th>launched</th>\n",
       "      <th>pledged</th>\n",
       "      <th>state</th>\n",
       "      <th>backers</th>\n",
       "      <th>country</th>\n",
       "      <th>usd pledged</th>\n",
       "      <th>usd_pledged_real</th>\n",
       "      <th>usd_goal_real</th>\n",
       "    </tr>\n",
       "  </thead>\n",
       "  <tbody>\n",
       "    <tr>\n",
       "      <th>0</th>\n",
       "      <td>1000002330</td>\n",
       "      <td>The Songs of Adelaide &amp; Abullah</td>\n",
       "      <td>Poetry</td>\n",
       "      <td>Publishing</td>\n",
       "      <td>GBP</td>\n",
       "      <td>2015-10-09</td>\n",
       "      <td>1000.0</td>\n",
       "      <td>2015-08-11 12:12:28</td>\n",
       "      <td>0.0</td>\n",
       "      <td>failed</td>\n",
       "      <td>0</td>\n",
       "      <td>GB</td>\n",
       "      <td>0.0</td>\n",
       "      <td>0.0</td>\n",
       "      <td>1533.95</td>\n",
       "    </tr>\n",
       "    <tr>\n",
       "      <th>1</th>\n",
       "      <td>1000003930</td>\n",
       "      <td>Greeting From Earth: ZGAC Arts Capsule For ET</td>\n",
       "      <td>Narrative Film</td>\n",
       "      <td>Film &amp; Video</td>\n",
       "      <td>USD</td>\n",
       "      <td>2017-11-01</td>\n",
       "      <td>30000.0</td>\n",
       "      <td>2017-09-02 04:43:57</td>\n",
       "      <td>2421.0</td>\n",
       "      <td>failed</td>\n",
       "      <td>15</td>\n",
       "      <td>US</td>\n",
       "      <td>100.0</td>\n",
       "      <td>2421.0</td>\n",
       "      <td>30000.00</td>\n",
       "    </tr>\n",
       "    <tr>\n",
       "      <th>2</th>\n",
       "      <td>1000004038</td>\n",
       "      <td>Where is Hank?</td>\n",
       "      <td>Narrative Film</td>\n",
       "      <td>Film &amp; Video</td>\n",
       "      <td>USD</td>\n",
       "      <td>2013-02-26</td>\n",
       "      <td>45000.0</td>\n",
       "      <td>2013-01-12 00:20:50</td>\n",
       "      <td>220.0</td>\n",
       "      <td>failed</td>\n",
       "      <td>3</td>\n",
       "      <td>US</td>\n",
       "      <td>220.0</td>\n",
       "      <td>220.0</td>\n",
       "      <td>45000.00</td>\n",
       "    </tr>\n",
       "    <tr>\n",
       "      <th>3</th>\n",
       "      <td>1000007540</td>\n",
       "      <td>ToshiCapital Rekordz Needs Help to Complete Album</td>\n",
       "      <td>Music</td>\n",
       "      <td>Music</td>\n",
       "      <td>USD</td>\n",
       "      <td>2012-04-16</td>\n",
       "      <td>5000.0</td>\n",
       "      <td>2012-03-17 03:24:11</td>\n",
       "      <td>1.0</td>\n",
       "      <td>failed</td>\n",
       "      <td>1</td>\n",
       "      <td>US</td>\n",
       "      <td>1.0</td>\n",
       "      <td>1.0</td>\n",
       "      <td>5000.00</td>\n",
       "    </tr>\n",
       "    <tr>\n",
       "      <th>4</th>\n",
       "      <td>1000011046</td>\n",
       "      <td>Community Film Project: The Art of Neighborhoo...</td>\n",
       "      <td>Film &amp; Video</td>\n",
       "      <td>Film &amp; Video</td>\n",
       "      <td>USD</td>\n",
       "      <td>2015-08-29</td>\n",
       "      <td>19500.0</td>\n",
       "      <td>2015-07-04 08:35:03</td>\n",
       "      <td>1283.0</td>\n",
       "      <td>canceled</td>\n",
       "      <td>14</td>\n",
       "      <td>US</td>\n",
       "      <td>1283.0</td>\n",
       "      <td>1283.0</td>\n",
       "      <td>19500.00</td>\n",
       "    </tr>\n",
       "  </tbody>\n",
       "</table>\n",
       "</div>"
      ],
      "text/plain": [
       "           ID                                               name  \\\n",
       "0  1000002330                    The Songs of Adelaide & Abullah   \n",
       "1  1000003930      Greeting From Earth: ZGAC Arts Capsule For ET   \n",
       "2  1000004038                                     Where is Hank?   \n",
       "3  1000007540  ToshiCapital Rekordz Needs Help to Complete Album   \n",
       "4  1000011046  Community Film Project: The Art of Neighborhoo...   \n",
       "\n",
       "         category main_category currency    deadline     goal  \\\n",
       "0          Poetry    Publishing      GBP  2015-10-09   1000.0   \n",
       "1  Narrative Film  Film & Video      USD  2017-11-01  30000.0   \n",
       "2  Narrative Film  Film & Video      USD  2013-02-26  45000.0   \n",
       "3           Music         Music      USD  2012-04-16   5000.0   \n",
       "4    Film & Video  Film & Video      USD  2015-08-29  19500.0   \n",
       "\n",
       "              launched  pledged     state  backers country  usd pledged  \\\n",
       "0  2015-08-11 12:12:28      0.0    failed        0      GB          0.0   \n",
       "1  2017-09-02 04:43:57   2421.0    failed       15      US        100.0   \n",
       "2  2013-01-12 00:20:50    220.0    failed        3      US        220.0   \n",
       "3  2012-03-17 03:24:11      1.0    failed        1      US          1.0   \n",
       "4  2015-07-04 08:35:03   1283.0  canceled       14      US       1283.0   \n",
       "\n",
       "   usd_pledged_real  usd_goal_real  \n",
       "0               0.0        1533.95  \n",
       "1            2421.0       30000.00  \n",
       "2             220.0       45000.00  \n",
       "3               1.0        5000.00  \n",
       "4            1283.0       19500.00  "
      ]
     },
     "execution_count": 3,
     "metadata": {},
     "output_type": "execute_result"
    }
   ],
   "source": [
    "print(kickstarter2018.columns) #Gettting info on columns in the dataset\n",
    "kickstarter2018.head(5) #Printing first 5 lines of the dataset to get more familiar data in columns"
   ]
  },
  {
   "cell_type": "markdown",
   "id": "1dfbcbfb",
   "metadata": {},
   "source": [
    "# Cleansing Data"
   ]
  },
  {
   "cell_type": "markdown",
   "id": "a3f52e4e",
   "metadata": {},
   "source": [
    "### State/Status"
   ]
  },
  {
   "cell_type": "code",
   "execution_count": 4,
   "id": "311b64ca",
   "metadata": {
    "scrolled": false
   },
   "outputs": [
    {
     "name": "stdout",
     "output_type": "stream",
     "text": [
      "failed        197719\n",
      "successful    133956\n",
      "canceled       38779\n",
      "undefined       3562\n",
      "live            2799\n",
      "suspended       1846\n",
      "Name: state, dtype: int64\n",
      "failed        52.215306\n",
      "successful    35.376234\n",
      "canceled      10.241086\n",
      "undefined      0.940683\n",
      "live           0.739184\n",
      "suspended      0.487507\n",
      "Name: state, dtype: float64\n"
     ]
    }
   ],
   "source": [
    "#Printing numbers of the different states/statuses of the overrall projects\n",
    "print(kickstarter2018['state'].value_counts()) \n",
    "\n",
    "#Printing percentage of the dataset\n",
    "print(kickstarter2018['state'].value_counts()/len(kickstarter2018) * 100)"
   ]
  },
  {
   "cell_type": "code",
   "execution_count": 5,
   "id": "7197293e",
   "metadata": {
    "scrolled": true
   },
   "outputs": [
    {
     "name": "stdout",
     "output_type": "stream",
     "text": [
      "failed        197719\n",
      "successful    133956\n",
      "canceled       38779\n",
      "live            2799\n",
      "suspended       1846\n",
      "Name: state, dtype: int64\n",
      "failed        52.711151\n",
      "successful    35.712172\n",
      "canceled      10.338337\n",
      "live           0.746203\n",
      "suspended      0.492137\n",
      "Name: state, dtype: float64\n"
     ]
    }
   ],
   "source": [
    "#Creating condition for projects that are in 'undefined'\n",
    "undefined_status = kickstarter2018['state'] == 'undefined'\n",
    "\n",
    "#Dropping the \"undefined\" from dataset as that dataset\n",
    "kickstarter2018.drop(kickstarter2018.index[undefined_status], inplace=True)\n",
    "print(kickstarter2018['state'].value_counts())\n",
    "\n",
    "#Printing percentage of the dataset\n",
    "print(kickstarter2018['state'].value_counts()/len(kickstarter2018) * 100)"
   ]
  },
  {
   "cell_type": "markdown",
   "id": "1bcc64db",
   "metadata": {},
   "source": [
    "### Launch Year"
   ]
  },
  {
   "cell_type": "code",
   "execution_count": 6,
   "id": "b6e72abb",
   "metadata": {},
   "outputs": [
    {
     "data": {
      "text/plain": [
       "launched\n",
       "1970        7\n",
       "2009     1329\n",
       "2010    10519\n",
       "2011    26237\n",
       "2012    41163\n",
       "2013    44849\n",
       "2014    66994\n",
       "2015    74920\n",
       "2016    56757\n",
       "2017    52200\n",
       "2018      124\n",
       "dtype: int64"
      ]
     },
     "execution_count": 6,
     "metadata": {},
     "output_type": "execute_result"
    }
   ],
   "source": [
    "kickstarter2018.groupby([(pd.to_datetime(kickstarter2018.launched).dt.year)]).size()"
   ]
  },
  {
   "cell_type": "code",
   "execution_count": 7,
   "id": "f048a93f",
   "metadata": {},
   "outputs": [
    {
     "name": "stdout",
     "output_type": "stream",
     "text": [
      "launched\n",
      "2009     1329\n",
      "2010    10519\n",
      "2011    26237\n",
      "2012    41163\n",
      "2013    44849\n",
      "2014    66994\n",
      "2015    74920\n",
      "2016    56757\n",
      "2017    52200\n",
      "2018      124\n",
      "Name: launched, dtype: int64\n"
     ]
    }
   ],
   "source": [
    "#Creating condition for project launched dated with year of 1970\n",
    "offdate = pd.to_datetime(kickstarter2018.launched).dt.year == 1970\n",
    "\n",
    "\n",
    "#Dropping the 1970 data from dataset as that data in that status are actually \n",
    "kickstarter2018.drop(kickstarter2018.index[offdate], inplace=True)\n",
    "print(kickstarter2018['launched'].groupby([pd.to_datetime(kickstarter2018.launched).dt.year]).size())"
   ]
  },
  {
   "cell_type": "markdown",
   "id": "1bd94d50",
   "metadata": {},
   "source": [
    "### Country"
   ]
  },
  {
   "cell_type": "code",
   "execution_count": 8,
   "id": "26392047",
   "metadata": {},
   "outputs": [
    {
     "data": {
      "text/plain": [
       "country\n",
       "AT         597\n",
       "AU        7839\n",
       "BE         617\n",
       "CA       14756\n",
       "CH         760\n",
       "DE        4171\n",
       "DK        1113\n",
       "ES        2276\n",
       "FR        2939\n",
       "GB       33672\n",
       "HK         618\n",
       "IE         811\n",
       "IT        2878\n",
       "JP          40\n",
       "LU          62\n",
       "MX        1752\n",
       "N,0\"       235\n",
       "NL        2868\n",
       "NO         708\n",
       "NZ        1447\n",
       "SE        1757\n",
       "SG         555\n",
       "US      292621\n",
       "dtype: int64"
      ]
     },
     "execution_count": 8,
     "metadata": {},
     "output_type": "execute_result"
    }
   ],
   "source": [
    "kickstarter2018.groupby(kickstarter2018.country).size()"
   ]
  },
  {
   "cell_type": "code",
   "execution_count": 9,
   "id": "67719497",
   "metadata": {},
   "outputs": [
    {
     "name": "stdout",
     "output_type": "stream",
     "text": [
      "country\n",
      "AT       597\n",
      "AU      7839\n",
      "BE       617\n",
      "CA     14756\n",
      "CH       760\n",
      "DE      4171\n",
      "DK      1113\n",
      "ES      2276\n",
      "FR      2939\n",
      "GB     33672\n",
      "HK       618\n",
      "IE       811\n",
      "IT      2878\n",
      "JP        40\n",
      "LU        62\n",
      "MX      1752\n",
      "NL      2868\n",
      "NO       708\n",
      "NZ      1447\n",
      "SE      1757\n",
      "SG       555\n",
      "US    292621\n",
      "Name: country, dtype: int64\n"
     ]
    }
   ],
   "source": [
    "#Creating condition for projects that are in 'undefined'\n",
    "unknown_country = kickstarter2018['country'] == 'N,0\"'\n",
    "\n",
    "#Dropping the \"undefined\" from dataset as that dataset\n",
    "kickstarter2018.drop(kickstarter2018.index[unknown_country], inplace=True)\n",
    "print(kickstarter2018['country'].groupby(kickstarter2018.country).size())"
   ]
  },
  {
   "cell_type": "markdown",
   "id": "2fa8f6ef",
   "metadata": {},
   "source": [
    "### Column Cleansing"
   ]
  },
  {
   "cell_type": "code",
   "execution_count": 10,
   "id": "f50b8b02",
   "metadata": {},
   "outputs": [],
   "source": [
    "kickstarter2018.drop(['ID','name','currency','goal','usd pledged' ,'pledged'],axis = 1, inplace=True)"
   ]
  },
  {
   "cell_type": "code",
   "execution_count": 11,
   "id": "406d2b45",
   "metadata": {},
   "outputs": [],
   "source": [
    "kickstarter2018['launched'] = pd.to_datetime(kickstarter2018.launched)"
   ]
  },
  {
   "cell_type": "markdown",
   "id": "780dcc09",
   "metadata": {},
   "source": [
    "## Cleaning Justifcation:\n",
    "\n",
    "- Dropping Projects in `state` with value of \"undefined\" as this is not a status that is used on Kickstarter Platform and accounts for less than 1% of the dataset.\n",
    "- Removing  7 data rows with 'launched' date in the year of 1970 as Kickstarter was founded in 2009. Small data points from that far back will disrupt analysis when looking at the data over time.\n",
    "- No `country` named N,0\" so that data is also being removed.\n",
    "- `ID`:all the ID fields are unique but will not be untilized in this analysis\n",
    "- `name`: same as ID where this is very unique but will not be used in this analysis for success and failure\n",
    "- `currency`: for easy of analysis we will be standardizing all funds to USD\n",
    "- `goal`: contains funded needed in local currency, however `usd_goal_real` provides goals converted into USD\n",
    "- `usd pledged`: contains a lot of missing values from Kickstarter and `usd_pledged_real` provided more complete data\n",
    "- `pledged`: like `goal` this column is in local currency and USD will be used\n",
    "-`launched`: taking off the time part to match deadline\n",
    "\n",
    " \n",
    " "
   ]
  },
  {
   "cell_type": "markdown",
   "id": "ae6daf1c",
   "metadata": {},
   "source": [
    "Deadline Duration"
   ]
  },
  {
   "cell_type": "code",
   "execution_count": 12,
   "id": "55acfa75",
   "metadata": {
    "scrolled": false
   },
   "outputs": [],
   "source": [
    "import datetime\n",
    "kickstarter2018['launched'] = pd.to_datetime(kickstarter2018['launched']).dt.date\n",
    "kickstarter2018['deadline'] = pd.to_datetime(kickstarter2018['deadline']).dt.date\n",
    "\n",
    "kickstarter2018['deadline_duration'] = (kickstarter2018['deadline'] - kickstarter2018['launched']).dt.days"
   ]
  },
  {
   "cell_type": "markdown",
   "id": "37bf86e6",
   "metadata": {},
   "source": [
    "Percentage Goal Funds Achieved"
   ]
  },
  {
   "cell_type": "code",
   "execution_count": 13,
   "id": "572f39c3",
   "metadata": {},
   "outputs": [],
   "source": [
    "kickstarter2018['percent_achieved'] = (kickstarter2018['usd_pledged_real']/kickstarter2018['usd_goal_real']) * 100"
   ]
  },
  {
   "cell_type": "markdown",
   "id": "69bc5f96",
   "metadata": {},
   "source": [
    "## Overall"
   ]
  },
  {
   "cell_type": "code",
   "execution_count": 14,
   "id": "085a73d1",
   "metadata": {
    "scrolled": false
   },
   "outputs": [
    {
     "name": "stdout",
     "output_type": "stream",
     "text": [
      "Project Status Percentages: \n",
      "failed        52.72\n",
      "successful    35.71\n",
      "canceled      10.34\n",
      "live           0.75\n",
      "suspended      0.49\n",
      "Name: state, dtype: float64\n"
     ]
    },
    {
     "data": {
      "image/png": "[encoded data removed]",
      "text/plain": [
       "<Figure size 720x576 with 1 Axes>"
      ]
     },
     "metadata": {
      "needs_background": "light"
     },
     "output_type": "display_data"
    }
   ],
   "source": [
    "#Find percentage for state/status\n",
    "totalstatus = round((kickstarter2018['state'].value_counts()) / kickstarter2018.shape[0] * 100,2)\n",
    "print('Project Status Percentages: ')\n",
    "print(totalstatus)\n",
    "\n",
    "plt.figure(figsize=(10,8))\n",
    "projectstate_plot = sns.countplot(x='state', data=kickstarter2018)\n",
    "plt.xlabel('Status')\n",
    "plt.ylabel('Count')\n",
    "plt.title('Kickstarter Project by Status')\n",
    "plt.show()\n"
   ]
  },
  {
   "cell_type": "code",
   "execution_count": 15,
   "id": "6308756e",
   "metadata": {},
   "outputs": [
    {
     "name": "stdout",
     "output_type": "stream",
     "text": [
      "Project Country Percentages: \n",
      "US    78.062034\n",
      "GB     8.982625\n",
      "CA     3.936434\n",
      "AU     2.091197\n",
      "DE     1.112691\n",
      "FR     0.784032\n",
      "IT     0.767759\n",
      "NL     0.765092\n",
      "ES     0.607165\n",
      "SE     0.468712\n",
      "Name: country, dtype: float64\n"
     ]
    },
    {
     "data": {
      "image/png": "[encoded data removed]",
      "text/plain": [
       "<Figure size 432x288 with 1 Axes>"
      ]
     },
     "metadata": {
      "needs_background": "light"
     },
     "output_type": "display_data"
    }
   ],
   "source": [
    "#percentage of projects per country\n",
    "totalcountry = (kickstarter2018['country'].value_counts()) / kickstarter2018.shape[0] * 100\n",
    "\n",
    "#displaying top 10\n",
    "print('Project Country Percentages: ')\n",
    "print(totalcountry.head(10))\n",
    "\n",
    "#plotting percentages by country\n",
    "totalcountry.plot(kind='bar')\n",
    "plt.xlabel('Country')\n",
    "plt.ylabel('Percentage %')\n",
    "plt.title('Kickstarter Project Percentage by Country')\n",
    "plt.show()"
   ]
  },
  {
   "cell_type": "code",
   "execution_count": 16,
   "id": "231398ab",
   "metadata": {
    "scrolled": false
   },
   "outputs": [
    {
     "name": "stdout",
     "output_type": "stream",
     "text": [
      "Project Category Percentages: \n",
      "Film & Video    16.725044\n",
      "Music           13.212772\n",
      "Publishing      10.504806\n",
      "Games            9.397183\n",
      "Technology       8.686512\n",
      "Design           8.020659\n",
      "Art              7.510064\n",
      "Food             6.562236\n",
      "Fashion          6.085521\n",
      "Theater          2.910710\n",
      "Comics           2.886167\n",
      "Photography      2.875230\n",
      "Crafts           2.349963\n",
      "Journalism       1.268217\n",
      "Dance            1.004917\n",
      "Name: main_category, dtype: float64\n"
     ]
    },
    {
     "data": {
      "image/png": "[encoded data removed]",
      "text/plain": [
       "<Figure size 432x288 with 1 Axes>"
      ]
     },
     "metadata": {
      "needs_background": "light"
     },
     "output_type": "display_data"
    }
   ],
   "source": [
    "#calculating percentage per main category\n",
    "totalcategory = (kickstarter2018['main_category'].value_counts()) / kickstarter2018.shape[0] * 100\n",
    "\n",
    "#displaying all category percentages\n",
    "print('Project Category Percentages: ')\n",
    "print(totalcategory)\n",
    "\n",
    "#plotting percent for each category\n",
    "totalcategory.plot(kind='bar')\n",
    "plt.xlabel('Category')\n",
    "plt.ylabel('Percentage %')\n",
    "plt.title('Overall Coun Percentage')\n",
    "plt.title('Kickstarter Project Percentage by Category')\n",
    "\n",
    "plt.show()\n"
   ]
  },
  {
   "cell_type": "markdown",
   "id": "65dba2fd",
   "metadata": {},
   "source": [
    "### US"
   ]
  },
  {
   "cell_type": "code",
   "execution_count": 17,
   "id": "fccc8761",
   "metadata": {
    "scrolled": false
   },
   "outputs": [
    {
     "name": "stdout",
     "output_type": "stream",
     "text": [
      "failed        51.965170\n",
      "successful    37.351728\n",
      "canceled       9.672922\n",
      "live           0.594626\n",
      "suspended      0.415555\n",
      "Name: state, dtype: float64\n"
     ]
    }
   ],
   "source": [
    "#Getting data from only US\n",
    "overall_us = kickstarter2018[(kickstarter2018['country'] =='US')]\n",
    "\n",
    "#Percentages by State/Status\n",
    "overall_us = (overall_us['state'].value_counts()) / overall_us.shape[0] * 100\n",
    "print(overall_us)\n"
   ]
  },
  {
   "cell_type": "code",
   "execution_count": 18,
   "id": "5ce8e64b",
   "metadata": {},
   "outputs": [],
   "source": [
    "#Creating new dateframes for different states\n",
    "ks_success = pd.DataFrame(kickstarter2018[kickstarter2018['state'] == 'successful'])\n",
    "\n",
    "#Contains all but 'live' and 'successful' as this other statuses still represent project not being funded\n",
    "ks_fail = pd.DataFrame(kickstarter2018[kickstarter2018['state'] != 'successful']) \n",
    "ks_fail = pd.DataFrame(ks_fail[ks_fail['state'] != 'live'])"
   ]
  },
  {
   "cell_type": "code",
   "execution_count": 19,
   "id": "f13d3a4f",
   "metadata": {},
   "outputs": [],
   "source": [
    "#Created dataframes US vs all other countries since US makes up so much of the data\n",
    "us_success = ks_success[ks_success['country'] == 'US']\n",
    "us_fails = ks_fail[ks_fail['country'] == 'US']"
   ]
  },
  {
   "cell_type": "code",
   "execution_count": 20,
   "id": "21efa7ed",
   "metadata": {
    "scrolled": false
   },
   "outputs": [
    {
     "data": {
      "text/plain": [
       "<AxesSubplot:xlabel='launched'>"
      ]
     },
     "execution_count": 20,
     "metadata": {},
     "output_type": "execute_result"
    },
    {
     "data": {
      "image/png": "[encoded data removed]",
      "text/plain": [
       "<Figure size 432x288 with 1 Axes>"
      ]
     },
     "metadata": {
      "needs_background": "light"
     },
     "output_type": "display_data"
    }
   ],
   "source": [
    "#Plotting Successful projects overtime\n",
    "us_success.groupby([(pd.to_datetime(us_success.launched).dt.year)]).size().plot(kind='line', marker='o')"
   ]
  },
  {
   "cell_type": "markdown",
   "id": "5e38842d",
   "metadata": {},
   "source": [
    "## Insight:\n",
    "\n",
    "Since the US market makes up approximately 80% of projects on Kickstarter nregardless of project status there is not surprise that the status percentages closely match the over percentages. \n",
    "\n",
    "But in the US, a larger amount of project were succesfully funded from 2009 to 2011 as creators were looking to outside, unconvential ways to fund their projects as convential funding was not available from the US Economy  crash in 2008/2009."
   ]
  },
  {
   "cell_type": "code",
   "execution_count": 21,
   "id": "4701daf8",
   "metadata": {
    "scrolled": false
   },
   "outputs": [
    {
     "name": "stdout",
     "output_type": "stream",
     "text": [
      "Avg Overrall Project Deadline Duration: \n",
      "32.16\n",
      "Avg Successful US Project Deadline Duration: \n",
      "count    109299.000000\n",
      "mean         32.392090\n",
      "std          12.033238\n",
      "min           1.000000\n",
      "25%          30.000000\n",
      "50%          30.000000\n",
      "75%          35.000000\n",
      "max          92.000000\n",
      "Name: deadline_duration, dtype: float64\n"
     ]
    },
    {
     "data": {
      "text/plain": [
       "Text(0.5, 1.0, 'Histogram of Successful Deadline Durantion in US')"
      ]
     },
     "execution_count": 21,
     "metadata": {},
     "output_type": "execute_result"
    },
    {
     "data": {
      "image/png": "[encoded data removed]",
      "text/plain": [
       "<Figure size 432x288 with 1 Axes>"
      ]
     },
     "metadata": {
      "needs_background": "light"
     },
     "output_type": "display_data"
    }
   ],
   "source": [
    "#overrall deadline duration\n",
    "print(\"Avg Overrall Project Deadline Duration: \")\n",
    "print(round(ks_success['deadline_duration'].mean(),2))\n",
    "\n",
    "#print of successful deadline duration summary\n",
    "print(\"Avg Successful US Project Deadline Duration: \")\n",
    "print(us_success['deadline_duration'].describe())\n",
    "\n",
    "#Histogram for successful deadline duration\n",
    "plt.hist(us_success.deadline_duration)\n",
    "plt.title('Histogram of Successful Deadline Durantion in US')\n",
    "\n"
   ]
  },
  {
   "cell_type": "markdown",
   "id": "33388f3f",
   "metadata": {},
   "source": [
    "### Insight:\n",
    "\n",
    "\n",
    "Unpopular to the standard opinion, more is not always better as the majority of project creators only needing bewteen 30-35 days to successful fund their project. Project creator are honing in on the sense of urgency for not only themselves to produce their dream but to give a sense of passion to share their dream project with backers."
   ]
  },
  {
   "cell_type": "markdown",
   "id": "dfb5c675",
   "metadata": {},
   "source": [
    "## US Categories"
   ]
  },
  {
   "cell_type": "code",
   "execution_count": 22,
   "id": "53c670f3",
   "metadata": {},
   "outputs": [
    {
     "data": {
      "image/png": "[encoded data removed]",
      "text/plain": [
       "<Figure size 1152x576 with 1 Axes>"
      ]
     },
     "metadata": {
      "needs_background": "light"
     },
     "output_type": "display_data"
    }
   ],
   "source": [
    "#Overrall projects by category\n",
    "plt.figure(figsize=(16,8))\n",
    "\n",
    "sns.countplot(x='main_category', data=kickstarter2018, hue='state')\n",
    "plt.title('Project Count by Main Category')\n",
    "plt.show()\n",
    "\n"
   ]
  },
  {
   "cell_type": "code",
   "execution_count": 23,
   "id": "123b026f",
   "metadata": {
    "scrolled": false
   },
   "outputs": [
    {
     "data": {
      "image/png": "[encoded data removed]",
      "text/plain": [
       "<Figure size 432x288 with 1 Axes>"
      ]
     },
     "metadata": {
      "needs_background": "light"
     },
     "output_type": "display_data"
    }
   ],
   "source": [
    "#Percentage of main categories for US Successful projects\n",
    "us_cat = (us_success['main_category'].value_counts()/us_success.shape[0]) * 100\n",
    "\n",
    "#plotting\n",
    "us_cat = us_cat.plot(kind='bar', title = 'Percentage of Successful US Projects by Category')\n",
    "us_cat = plt.xlabel('Category')\n",
    "us_cat = plt.ylabel('Percentage')\n",
    "plt.show()\n",
    " \n"
   ]
  },
  {
   "cell_type": "markdown",
   "id": "12ef23be",
   "metadata": {},
   "source": [
    "### Top 3 Categories"
   ]
  },
  {
   "cell_type": "markdown",
   "id": "68b27fd2",
   "metadata": {},
   "source": [
    "### Music"
   ]
  },
  {
   "cell_type": "code",
   "execution_count": 24,
   "id": "9dc49919",
   "metadata": {},
   "outputs": [
    {
     "name": "stdout",
     "output_type": "stream",
     "text": [
      "Total Projects: \n",
      "21718\n",
      "Averavges US Successful Music Projects: \n",
      "backers               103.885349\n",
      "usd_pledged_real     7481.140029\n",
      "usd_goal_real        5840.722933\n",
      "deadline_duration      33.907726\n",
      "percent_achieved     1784.123875\n",
      "dtype: float64\n"
     ]
    }
   ],
   "source": [
    "#Looking at US Success projects in Music category\n",
    "music_us = us_success.loc[us_success['main_category'] == 'Music']\n",
    "\n",
    "#Total\n",
    "print('Total Projects: ')\n",
    "print(music_us.shape[0])\n",
    "\n",
    "#Providing Ave in each variable\n",
    "print('Averavges US Successful Music Projects: ')\n",
    "music_ave = music_us[['backers', 'usd_pledged_real', 'usd_goal_real', 'deadline_duration', 'percent_achieved']].mean()\n",
    "\n",
    "print(music_ave)"
   ]
  },
  {
   "cell_type": "markdown",
   "id": "40788a0f",
   "metadata": {},
   "source": [
    "### Film & Video"
   ]
  },
  {
   "cell_type": "code",
   "execution_count": 25,
   "id": "25c97e2f",
   "metadata": {},
   "outputs": [
    {
     "name": "stdout",
     "output_type": "stream",
     "text": [
      "Total Projects: \n",
      "19782\n",
      "Averavges US Successful Film & Video Projects: \n",
      "backers                160.312102\n",
      "usd_pledged_real     14865.630768\n",
      "usd_goal_real        11871.892956\n",
      "deadline_duration       32.737337\n",
      "percent_achieved       420.043862\n",
      "dtype: float64\n"
     ]
    }
   ],
   "source": [
    "#Looking at US Succes projects in Film & Video category\n",
    "filmvid_us = us_success.loc[us_success['main_category'] == 'Film & Video']\n",
    "\n",
    "#Total\n",
    "print('Total Projects: ')\n",
    "print(filmvid_us.shape[0])\n",
    "\n",
    "#Providing Ave in each variable\n",
    "print('Averavges US Successful Film & Video Projects: ')\n",
    "filmvid_ave = filmvid_us[['backers', 'usd_pledged_real', 'usd_goal_real', 'deadline_duration', 'percent_achieved']].mean()\n",
    "\n",
    "print(filmvid_ave)\n"
   ]
  },
  {
   "cell_type": "markdown",
   "id": "dc722785",
   "metadata": {},
   "source": [
    "### Publishing"
   ]
  },
  {
   "cell_type": "code",
   "execution_count": 26,
   "id": "2b343ba3",
   "metadata": {},
   "outputs": [
    {
     "name": "stdout",
     "output_type": "stream",
     "text": [
      "Total Projects: \n",
      "9965\n",
      "Averavges US Successful Publishing Projects: \n",
      "backers               157.395785\n",
      "usd_pledged_real     9333.075867\n",
      "usd_goal_real        5804.175093\n",
      "deadline_duration      32.133869\n",
      "percent_achieved      606.665065\n",
      "dtype: float64\n"
     ]
    }
   ],
   "source": [
    "#Looking at US Succes projects in Film & Video category\n",
    "pub_us = us_success.loc[us_success['main_category'] == 'Publishing']\n",
    "\n",
    "#Total\n",
    "print('Total Projects: ')\n",
    "print(pub_us.shape[0])\n",
    "\n",
    "#Providing Ave in each variable\n",
    "print('Averavges US Successful Publishing Projects: ')\n",
    "pub_ave = pub_us[['backers', 'usd_pledged_real', 'usd_goal_real', 'deadline_duration', 'percent_achieved']].mean()\n",
    "\n",
    "print(pub_ave)\n"
   ]
  },
  {
   "cell_type": "markdown",
   "id": "d918eb81",
   "metadata": {},
   "source": [
    "### Insight:\n",
    "\n",
    "The top successful categories of projects for the US, Music, Film & Video, and Publishing, all show a pattern of projects being able to raise more funds than the intial goal the creator setup. The top categories for the US are industries in which distribution of the servce of good is more easily distruted. This offers more flexibility to the the creator to use more funds for marketing of the project and production of the service/good without worrying about the cost associated with packaging and shipping."
   ]
  },
  {
   "cell_type": "markdown",
   "id": "55a2d503",
   "metadata": {},
   "source": [
    "## Learning from Fails"
   ]
  },
  {
   "cell_type": "code",
   "execution_count": 27,
   "id": "5f202695",
   "metadata": {},
   "outputs": [
    {
     "data": {
      "image/png": "[encoded data removed]",
      "text/plain": [
       "<Figure size 432x288 with 1 Axes>"
      ]
     },
     "metadata": {
      "needs_background": "light"
     },
     "output_type": "display_data"
    }
   ],
   "source": [
    "#Percentage of main categories for US failed projects\n",
    "us_fcat = (us_fails['main_category'].value_counts()/us_fails.shape[0]) * 100\n",
    "\n",
    "#plotting\n",
    "us_fcat = us_fcat.plot(kind='bar', title = 'Percentage of Failed US Projects by Category')\n",
    "us_fcat = plt.xlabel('Category')\n",
    "us_fcat = plt.ylabel('Percentage')\n",
    "plt.show()"
   ]
  },
  {
   "cell_type": "markdown",
   "id": "f0bd81bf",
   "metadata": {},
   "source": [
    "<h3> <span style=\"color:red\">Film & Video</span> </h3>"
   ]
  },
  {
   "cell_type": "code",
   "execution_count": 28,
   "id": "627acbfa",
   "metadata": {},
   "outputs": [
    {
     "name": "stdout",
     "output_type": "stream",
     "text": [
      "Total Projects: \n",
      "31926\n",
      "Averavges US Failed Film & Video Projects: \n",
      "backers                  15.796874\n",
      "usd_pledged_real       1610.539758\n",
      "usd_goal_real        120060.215067\n",
      "deadline_duration        37.653041\n",
      "percent_achieved         19.146874\n",
      "dtype: float64\n"
     ]
    }
   ],
   "source": [
    "#Looking at US Failed projects in Film & Video category\n",
    "ffilmvid_us = us_fails.loc[us_fails['main_category'] == 'Film & Video']\n",
    "\n",
    "#Total\n",
    "print('Total Projects: ')\n",
    "print(ffilmvid_us.shape[0])\n",
    "\n",
    "#Providing Ave in each variable\n",
    "print('Averavges US Failed Film & Video Projects: ')\n",
    "ffilmvid_ave = ffilmvid_us[['backers', 'usd_pledged_real', 'usd_goal_real', 'deadline_duration', 'percent_achieved']].mean()\n",
    "\n",
    "print(ffilmvid_ave)\n"
   ]
  },
  {
   "cell_type": "markdown",
   "id": "d36e11f7",
   "metadata": {},
   "source": [
    "<h3> <span style=\"color:red\">Publishing</span> </h3>"
   ]
  },
  {
   "cell_type": "code",
   "execution_count": 29,
   "id": "1d59b0c0",
   "metadata": {},
   "outputs": [
    {
     "name": "stdout",
     "output_type": "stream",
     "text": [
      "Total Projects: \n",
      "21563\n",
      "Averavges US Successful Publishing Projects: \n",
      "backers                  9.691369\n",
      "usd_pledged_real       613.855512\n",
      "usd_goal_real        36541.601315\n",
      "deadline_duration       35.052915\n",
      "percent_achieved         8.643928\n",
      "dtype: float64\n"
     ]
    }
   ],
   "source": [
    "#Looking at US Succes projects in Film & Video category\n",
    "fpub_us = us_fails.loc[us_fails['main_category'] == 'Publishing']\n",
    "\n",
    "#Total\n",
    "print('Total Projects: ')\n",
    "print(fpub_us.shape[0])\n",
    "\n",
    "#Providing Ave in each variable\n",
    "print('Averavges US Successful Publishing Projects: ')\n",
    "fpub_ave = fpub_us[['backers', 'usd_pledged_real', 'usd_goal_real', 'deadline_duration', 'percent_achieved']].mean()\n",
    "\n",
    "print(fpub_ave)\n"
   ]
  },
  {
   "cell_type": "markdown",
   "id": "a400208c",
   "metadata": {},
   "source": [
    "<h3> <span style=\"color:red\">Music</span> </h3>"
   ]
  },
  {
   "cell_type": "code",
   "execution_count": 30,
   "id": "f5b2aa8a",
   "metadata": {},
   "outputs": [
    {
     "name": "stdout",
     "output_type": "stream",
     "text": [
      "Total Projects: \n",
      "21325\n",
      "Averavges US Successful Music Projects: \n",
      "backers                  9.304103\n",
      "usd_pledged_real       634.399775\n",
      "usd_goal_real        25774.578514\n",
      "deadline_duration       37.339836\n",
      "percent_achieved         9.482147\n",
      "dtype: float64\n"
     ]
    }
   ],
   "source": [
    "#Looking at US failure projects in Music category\n",
    "fmusic_us = us_fails.loc[us_fails['main_category'] == 'Music']\n",
    "\n",
    "#Total\n",
    "print('Total Projects: ')\n",
    "print(fmusic_us.shape[0])\n",
    "\n",
    "#Providing Ave in each variable\n",
    "print('Averavges US Successful Music Projects: ')\n",
    "fmusic_ave = fmusic_us[['backers', 'usd_pledged_real', 'usd_goal_real', 'deadline_duration', 'percent_achieved']].mean()\n",
    "\n",
    "print(fmusic_ave)"
   ]
  },
  {
   "cell_type": "code",
   "execution_count": 31,
   "id": "0d4f6f00",
   "metadata": {
    "scrolled": true
   },
   "outputs": [
    {
     "name": "stdout",
     "output_type": "stream",
     "text": [
      "Music Success Rate: \n",
      "0.505\n",
      "Music Failure Rate: \n",
      "0.495\n"
     ]
    }
   ],
   "source": [
    "music_srate = music_us.shape[0]/(fmusic_us.shape[0] + music_us.shape[0])\n",
    "music_frate = fmusic_us.shape[0]/(fmusic_us.shape[0] + music_us.shape[0])\n",
    "\n",
    "print('Music Success Rate: ')\n",
    "print(round(music_srate,3))\n",
    "print('Music Failure Rate: ')\n",
    "print(round(music_frate,3))\n"
   ]
  },
  {
   "cell_type": "code",
   "execution_count": 32,
   "id": "7158be2b",
   "metadata": {},
   "outputs": [
    {
     "name": "stdout",
     "output_type": "stream",
     "text": [
      "Film & Video Success Rate: \n",
      "0.383\n",
      "Film & Video Failure Rate: \n",
      "0.617\n"
     ]
    }
   ],
   "source": [
    "filmvid_srate = filmvid_us.shape[0]/(ffilmvid_us.shape[0] + filmvid_us.shape[0])\n",
    "filmvid_frate = ffilmvid_us.shape[0]/(ffilmvid_us.shape[0] + filmvid_us.shape[0])\n",
    "\n",
    "print('Film & Video Success Rate: ')\n",
    "print(round(filmvid_srate,3))\n",
    "print('Film & Video Failure Rate: ')\n",
    "print(round(filmvid_frate,3))\n"
   ]
  },
  {
   "cell_type": "code",
   "execution_count": 33,
   "id": "d5bf41e9",
   "metadata": {
    "scrolled": true
   },
   "outputs": [
    {
     "name": "stdout",
     "output_type": "stream",
     "text": [
      "Publishing Success Rate: \n",
      "0.316\n",
      "Publishing Failure Rate: \n",
      "0.684\n"
     ]
    }
   ],
   "source": [
    "pub_srate = pub_us.shape[0]/(fpub_us.shape[0] + pub_us.shape[0])\n",
    "pub_frate = fpub_us.shape[0]/(fpub_us.shape[0] + pub_us.shape[0])\n",
    "\n",
    "\n",
    "print('Publishing Success Rate: ')\n",
    "print(round(pub_srate,3))\n",
    "print('Publishing Failure Rate: ')\n",
    "print(round(pub_frate,3))\n"
   ]
  },
  {
   "cell_type": "markdown",
   "id": "9d524e85",
   "metadata": {},
   "source": [
    "## Insight:\n",
    "\n",
    "The top categories of projects for success are also the top categories for failure. We see that there is a low amount of average backers and percent of goal achieved due to some projects being cancelled or not funded at all. From these failures in the same catefories the see that out of the three, Music, Film & Video, and Publishing, Music has the best success rate.\n",
    "\n",
    "\n"
   ]
  },
  {
   "cell_type": "markdown",
   "id": "16bcb44d",
   "metadata": {},
   "source": [
    "## Correlation of all categories"
   ]
  },
  {
   "cell_type": "code",
   "execution_count": 36,
   "id": "0a00c409",
   "metadata": {
    "scrolled": false
   },
   "outputs": [
    {
     "data": {
      "text/plain": [
       "<AxesSubplot:>"
      ]
     },
     "execution_count": 36,
     "metadata": {},
     "output_type": "execute_result"
    },
    {
     "data": {
      "image/png": "[encoded data removed]",
      "text/plain": [
       "<Figure size 720x576 with 2 Axes>"
      ]
     },
     "metadata": {
      "needs_background": "light"
     },
     "output_type": "display_data"
    }
   ],
   "source": [
    "#Datafram for just overall\n",
    "correlation = pd.DataFrame(kickstarter2018)\n",
    "\n",
    "#Converting main category from categorical to numerical to run correlation\n",
    "correlation['main_category'] = pd.factorize(correlation['main_category'])[0]\n",
    "#Converting state from categorical to numerical to run correlation\n",
    "correlation['state'] = pd.factorize(correlation['state'])[0]\n",
    "\n",
    "#Heatmap for us correlation\n",
    "us_corr_plot = us_corr.corr()\n",
    "fig, ax = plt.subplots(figsize = (10,8))\n",
    "sns.heatmap(us_corr_plot, annot=True)\n",
    "\n"
   ]
  },
  {
   "cell_type": "markdown",
   "id": "ca0a78f2",
   "metadata": {},
   "source": [
    "## Concluding Insights:\n",
    "\n",
    "Based on the analysis, we have found that Kickstarts were most impacted by the US market and saw a exponential growth in success rate after the resession but in recent years the amount of projects has been declining. It was also determined that in the Main Categories of projects that the Music, Film & Video, and Publishing are the most successful and the most failed projects in the US as they have have an easy distribution channel that reduces costs associated with shipping. \n",
    "\n",
    "Overrall, there did not apprear to be a single factor that contributes to the success of a project and can be supported with the correlation graph that was created. Many unquantifiable variables as well as data not provided are working together to contribute to the successful in addition to the ones that were analyzed. Some of these include: quality and design of a product/service, the backers' incentives for pledging, innovation of the product, marketing and conversion rate to obtain backers. With the additions of more details on projects a bigger classfication of project can be modeled to predict the success of projects and determine the success of live projects.\n"
   ]
  },
  {
   "cell_type": "code",
   "execution_count": null,
   "id": "fb10ab70",
   "metadata": {
    "scrolled": true
   },
   "outputs": [],
   "source": [
    "\n"
   ]
  }
 ],
 "metadata": {
  "kernelspec": {
   "display_name": "Python 3 (ipykernel)",
   "language": "python",
   "name": "python3"
  },
  "language_info": {
   "codemirror_mode": {
    "name": "ipython",
    "version": 3
   },
   "file_extension": ".py",
   "mimetype": "text/x-python",
   "name": "python",
   "nbconvert_exporter": "python",
   "pygments_lexer": "ipython3",
   "version": "3.9.7"
  }
 },
 "nbformat": 4,
 "nbformat_minor": 5
}
